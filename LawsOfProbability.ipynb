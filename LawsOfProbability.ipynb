{
 "cells": [
  {
   "cell_type": "code",
   "execution_count": 12,
   "id": "0377e5d8-dafa-4c94-8b98-8a30e815f14f",
   "metadata": {},
   "outputs": [],
   "source": [
    "#Import important libraries\n",
    "import pandas as pd\n",
    "\n",
    "gss = pd.read_csv('GSS1974.csv')\n",
    "gss_df = gss[['YEAR','AGE','AGE','SEX','POLVIEWS','PARTYID', 'INDUS10']].iloc[1: , :].astype(int)\n",
    "\n",
    "#create probability function\n",
    "def prob(A):\n",
    "    \"\"\"Computes the probability of a proposition, A\"\"\"\n",
    "    return A.mean()\n",
    "\n",
    "#Creating a function\n",
    "def conditional(proposition, given):\n",
    "    return prob(proposition[given])\n",
    "\n",
    "#Create the df and series\n",
    "banker = gss_df['INDUS10'] == 7860\n",
    "banker.sum()\n",
    "\n",
    "#do the same thing with sex\n",
    "female = (gss_df['SEX'] == 2)\n",
    "\n",
    "#once more with political party\n",
    "liberal = (gss_df['POLVIEWS'] <= 3)\n",
    "democrat = (gss_df['POLVIEWS'] <= 1)\n"
   ]
  },
  {
   "cell_type": "markdown",
   "id": "18e265ba-7f24-4ac7-81f3-f59c38256b1d",
   "metadata": {},
   "source": [
    "# Laws of Probability"
   ]
  },
  {
   "cell_type": "markdown",
   "id": "4d331fea-2666-40f4-9156-93915e0c41d3",
   "metadata": {},
   "source": [
    "## Theorems"
   ]
  },
  {
   "cell_type": "markdown",
   "id": "d1f4055e-b40d-4677-adf4-16df8b685e39",
   "metadata": {},
   "source": [
    "Theorem 1: Using a conjunction to compute a conditional probability\n",
    "\n",
    "Theorem 2: Using a conditional probability to compute a conjunction\n",
    "\n",
    "Theorem 3: Using conditional(A,B) to compute conditional(B,A) (BAYES THEOREM) "
   ]
  },
  {
   "cell_type": "markdown",
   "id": "ef4ad500-0ce5-4a21-88c2-13b0df9ccc6b",
   "metadata": {},
   "source": [
    "## Theorems with Mathematical Notation"
   ]
  },
  {
   "cell_type": "markdown",
   "id": "52fe3c25-56e0-4a24-a89d-b2ad7952948b",
   "metadata": {},
   "source": [
    "Theorem 1: P(A) is the probability of proposition A.\n",
    "\n",
    "Theorem 2: P(A and B) is the probability of the conjunction of A and B, that's is, the probability that both are true.\n",
    "\n",
    "Theorem 3: P(A|B) is the conditional probability of A given that B is true. The vertical line between A and B is pronounced \"given\"."
   ]
  },
  {
   "cell_type": "markdown",
   "id": "f74cde27-8546-4493-bb31-56008bec7721",
   "metadata": {},
   "source": [
    "# Theorem 1"
   ]
  },
  {
   "cell_type": "markdown",
   "id": "e1a7e0ac-bd60-45dd-89a8-290ea32de607",
   "metadata": {},
   "source": [
    "## P(A)\n",
    "Using conjunction to compute a conditional probability - The probability of proposition A"
   ]
  },
  {
   "cell_type": "markdown",
   "id": "724f6427-b59a-428f-9311-abeb0e2b99ab",
   "metadata": {},
   "source": [
    "### What fraction of bankers are female?"
   ]
  },
  {
   "cell_type": "code",
   "execution_count": 5,
   "id": "4ccd5826-3622-4aa5-8dd7-77721a18a6ec",
   "metadata": {},
   "outputs": [
    {
     "data": {
      "text/plain": [
       "0.7217391304347827"
      ]
     },
     "execution_count": 5,
     "metadata": {},
     "output_type": "execute_result"
    }
   ],
   "source": [
    "#Use the bracket operator to select the bankers\n",
    "#then use mean to compute the fraction of bankers who are female\n",
    "female[banker].mean()"
   ]
  },
  {
   "cell_type": "code",
   "execution_count": 8,
   "id": "76c912f6-0cba-4dde-b634-efb70752c219",
   "metadata": {},
   "outputs": [
    {
     "data": {
      "text/plain": [
       "0.7217391304347827"
      ]
     },
     "execution_count": 8,
     "metadata": {},
     "output_type": "execute_result"
    }
   ],
   "source": [
    "conditional(female, given=banker)"
   ]
  },
  {
   "cell_type": "markdown",
   "id": "c2f4ea1d-021d-4c94-ad6c-755453c46139",
   "metadata": {},
   "source": [
    "Compute this conditional probability by computing the ration of two probabilities \n",
    "1. the fraction of respondents who are female bankers, and\n",
    "2. the fraction of respondents who are bankers"
   ]
  },
  {
   "cell_type": "code",
   "execution_count": 9,
   "id": "2f7eccfb-dfc0-41de-af4f-fc89f1cbfdc1",
   "metadata": {},
   "outputs": [
    {
     "data": {
      "text/plain": [
       "0.7217391304347827"
      ]
     },
     "execution_count": 9,
     "metadata": {},
     "output_type": "execute_result"
    }
   ],
   "source": [
    "prob(female & banker) / prob(banker)"
   ]
  },
  {
   "cell_type": "raw",
   "id": "bcca17c7-471d-4c98-a018-2ceccaa8f10b",
   "metadata": {},
   "source": [
    "           P(A and B)\n",
    "P(A|B) = ---------------\n",
    "              P(B)"
   ]
  },
  {
   "cell_type": "markdown",
   "id": "8c04373c-a0f6-44c3-a3c9-c5b8d6030303",
   "metadata": {},
   "source": [
    "# Theorem 2"
   ]
  },
  {
   "cell_type": "markdown",
   "id": "0d00e789-a73d-4118-b6f7-b6244e23d1ff",
   "metadata": {},
   "source": [
    "If we start with theorem 1 and multiply both sides by P(B), we get theorem 2"
   ]
  },
  {
   "cell_type": "raw",
   "id": "a9854548-a1f2-4b1a-9251-8b516cce2a99",
   "metadata": {},
   "source": [
    "P(A and B) = P(B) P(A|B)"
   ]
  },
  {
   "cell_type": "markdown",
   "id": "ced5543a-a8cb-4dfe-bc06-d45e8e02db03",
   "metadata": {},
   "source": [
    "This formula suggests a second way to compute a conjunction: instead of using the & operator, we can compute the product of two probabilities"
   ]
  },
  {
   "cell_type": "code",
   "execution_count": 13,
   "id": "6ab9b3b6-b64c-4a97-865f-c3ec64b1a99e",
   "metadata": {},
   "outputs": [
    {
     "data": {
      "text/plain": [
       "0.014824797843665768"
      ]
     },
     "execution_count": 13,
     "metadata": {},
     "output_type": "execute_result"
    }
   ],
   "source": [
    "prob(liberal & democrat)"
   ]
  },
  {
   "cell_type": "code",
   "execution_count": 14,
   "id": "2627d137-8843-42e9-ba55-f58931ef9ce4",
   "metadata": {},
   "outputs": [
    {
     "data": {
      "text/plain": [
       "0.014824797843665768"
      ]
     },
     "execution_count": 14,
     "metadata": {},
     "output_type": "execute_result"
    }
   ],
   "source": [
    "prob(democrat ) * conditional(liberal, democrat)"
   ]
  },
  {
   "cell_type": "markdown",
   "id": "16a6a255-bf2b-46c8-b523-2393d36f5ccc",
   "metadata": {},
   "source": [
    "# Theorem 3"
   ]
  },
  {
   "cell_type": "markdown",
   "id": "0d961552-622a-4859-b03a-bc1acc3d0a10",
   "metadata": {},
   "source": [
    "We have established that conjunction is commutative. In math notation, that means..."
   ]
  },
  {
   "cell_type": "raw",
   "id": "7ffb3948-c7c4-485f-983b-dcb8df8e2049",
   "metadata": {},
   "source": [
    "P(A and B) = P(B and A)"
   ]
  },
  {
   "cell_type": "markdown",
   "id": "a10c5954-b733-4615-8298-0d6b97e7fbd0",
   "metadata": {},
   "source": [
    "apply theorem two to both sides, we have..."
   ]
  },
  {
   "cell_type": "raw",
   "id": "88dc42fe-8699-4e5c-b7cb-7afb990f6d9b",
   "metadata": {},
   "source": [
    "P(B)P(A|B) = P(A)P(B|A)"
   ]
  },
  {
   "cell_type": "markdown",
   "id": "f0aaa54f-6d35-41c3-b3d1-67bcde09d032",
   "metadata": {},
   "source": [
    "If we divide by P(B) we get... "
   ]
  },
  {
   "cell_type": "raw",
   "id": "6c63ad0e-3527-4e85-9e8b-7778387c3f93",
   "metadata": {},
   "source": [
    "          P(A)P(B|A)\n",
    "P(A|B) = ------------- = Baye's theorem\n",
    "             P(B)"
   ]
  },
  {
   "cell_type": "code",
   "execution_count": 15,
   "id": "82601827-4e5e-4884-ba17-de99e86bb67f",
   "metadata": {},
   "outputs": [
    {
     "data": {
      "text/plain": [
       "0.2956521739130435"
      ]
     },
     "execution_count": 15,
     "metadata": {},
     "output_type": "execute_result"
    }
   ],
   "source": [
    "conditional(liberal, given=banker)"
   ]
  },
  {
   "cell_type": "code",
   "execution_count": 16,
   "id": "44c70f55-5701-49a7-942b-50756708bb0d",
   "metadata": {},
   "outputs": [
    {
     "data": {
      "text/plain": [
       "0.2956521739130435"
      ]
     },
     "execution_count": 16,
     "metadata": {},
     "output_type": "execute_result"
    }
   ],
   "source": [
    "#Bayes Theorem\n",
    "\n",
    "prob(liberal) * conditional(banker, liberal) / prob(banker)"
   ]
  },
  {
   "cell_type": "code",
   "execution_count": null,
   "id": "ac7399c7-e903-4315-a88b-aee16259c5db",
   "metadata": {},
   "outputs": [],
   "source": []
  }
 ],
 "metadata": {
  "kernelspec": {
   "display_name": "Python 3 (ipykernel)",
   "language": "python",
   "name": "python3"
  },
  "language_info": {
   "codemirror_mode": {
    "name": "ipython",
    "version": 3
   },
   "file_extension": ".py",
   "mimetype": "text/x-python",
   "name": "python",
   "nbconvert_exporter": "python",
   "pygments_lexer": "ipython3",
   "version": "3.9.5"
  }
 },
 "nbformat": 4,
 "nbformat_minor": 5
}
