{
 "cells": [
  {
   "cell_type": "code",
   "execution_count": 1,
   "id": "0377e5d8-dafa-4c94-8b98-8a30e815f14f",
   "metadata": {},
   "outputs": [],
   "source": [
    "#Import important libraries\n",
    "import pandas as pd\n",
    "\n",
    "gss = pd.read_csv('GSS1974.csv')\n",
    "gss_df = gss[['YEAR','AGE','AGE','SEX','POLVIEWS','PARTYID', 'INDUS10']].iloc[1: , :].astype(int)\n",
    "gss_df.columns = ['YEAR','AGE','AGE1','SEX','POLVIEWS','PARTYID', 'INDUS10']\n",
    "\n",
    "#create probability function\n",
    "def prob(A):\n",
    "    \"\"\"Computes the probability of a proposition, A\"\"\"\n",
    "    return A.mean()\n",
    "\n",
    "#Creating a function\n",
    "def conditional(proposition, given):\n",
    "    return prob(proposition[given])\n",
    "\n",
    "#Create the df and series\n",
    "banker = gss_df['INDUS10'] == 7860\n",
    "banker.sum()\n",
    "\n",
    "#do the same thing with sex\n",
    "female = (gss_df['SEX'] == 2)\n",
    "\n",
    "#once more with political party\n",
    "liberal = (gss_df['POLVIEWS'] <= 3)\n",
    "democrat = (gss_df['POLVIEWS'] <= 1)\n"
   ]
  },
  {
   "cell_type": "markdown",
   "id": "18e265ba-7f24-4ac7-81f3-f59c38256b1d",
   "metadata": {},
   "source": [
    "# Laws of Probability"
   ]
  },
  {
   "cell_type": "markdown",
   "id": "4d331fea-2666-40f4-9156-93915e0c41d3",
   "metadata": {},
   "source": [
    "## Theorems"
   ]
  },
  {
   "cell_type": "markdown",
   "id": "d1f4055e-b40d-4677-adf4-16df8b685e39",
   "metadata": {},
   "source": [
    "Theorem 1: Using a conjunction to compute a conditional probability\n",
    "\n",
    "Theorem 2: Using a conditional probability to compute a conjunction\n",
    "\n",
    "Theorem 3: Using conditional(A,B) to compute conditional(B,A) (BAYES THEOREM) "
   ]
  },
  {
   "cell_type": "markdown",
   "id": "ef4ad500-0ce5-4a21-88c2-13b0df9ccc6b",
   "metadata": {},
   "source": [
    "## Theorems with Mathematical Notation"
   ]
  },
  {
   "cell_type": "markdown",
   "id": "52fe3c25-56e0-4a24-a89d-b2ad7952948b",
   "metadata": {},
   "source": [
    "Theorem 1: P(A) is the probability of proposition A.\n",
    "\n",
    "Theorem 2: P(A and B) is the probability of the conjunction of A and B, that's is, the probability that both are true.\n",
    "\n",
    "Theorem 3: P(A|B) is the conditional probability of A given that B is true. The vertical line between A and B is pronounced \"given\"."
   ]
  },
  {
   "cell_type": "markdown",
   "id": "f74cde27-8546-4493-bb31-56008bec7721",
   "metadata": {},
   "source": [
    "# Theorem 1"
   ]
  },
  {
   "cell_type": "markdown",
   "id": "e1a7e0ac-bd60-45dd-89a8-290ea32de607",
   "metadata": {},
   "source": [
    "## P(A)\n",
    "Using conjunction to compute a conditional probability - The probability of proposition A"
   ]
  },
  {
   "cell_type": "markdown",
   "id": "724f6427-b59a-428f-9311-abeb0e2b99ab",
   "metadata": {},
   "source": [
    "### What fraction of bankers are female?"
   ]
  },
  {
   "cell_type": "code",
   "execution_count": 2,
   "id": "4ccd5826-3622-4aa5-8dd7-77721a18a6ec",
   "metadata": {},
   "outputs": [
    {
     "data": {
      "text/plain": [
       "0.7217391304347827"
      ]
     },
     "execution_count": 2,
     "metadata": {},
     "output_type": "execute_result"
    }
   ],
   "source": [
    "#Use the bracket operator to select the bankers\n",
    "#then use mean to compute the fraction of bankers who are female\n",
    "female[banker].mean()"
   ]
  },
  {
   "cell_type": "code",
   "execution_count": 3,
   "id": "76c912f6-0cba-4dde-b634-efb70752c219",
   "metadata": {},
   "outputs": [
    {
     "data": {
      "text/plain": [
       "0.7217391304347827"
      ]
     },
     "execution_count": 3,
     "metadata": {},
     "output_type": "execute_result"
    }
   ],
   "source": [
    "conditional(female, given=banker)"
   ]
  },
  {
   "cell_type": "markdown",
   "id": "c2f4ea1d-021d-4c94-ad6c-755453c46139",
   "metadata": {},
   "source": [
    "Compute this conditional probability by computing the ration of two probabilities \n",
    "1. the fraction of respondents who are female bankers, and\n",
    "2. the fraction of respondents who are bankers"
   ]
  },
  {
   "cell_type": "code",
   "execution_count": 4,
   "id": "2f7eccfb-dfc0-41de-af4f-fc89f1cbfdc1",
   "metadata": {},
   "outputs": [
    {
     "data": {
      "text/plain": [
       "0.7217391304347827"
      ]
     },
     "execution_count": 4,
     "metadata": {},
     "output_type": "execute_result"
    }
   ],
   "source": [
    "prob(female & banker) / prob(banker)"
   ]
  },
  {
   "cell_type": "code",
   "execution_count": 5,
   "id": "379c5b0a-3504-4dc4-8d47-cd3c6d7bdac6",
   "metadata": {},
   "outputs": [],
   "source": [
    "#            P(A and B)\n",
    "# P(A|B) = ---------------\n",
    "#               P(B)"
   ]
  },
  {
   "cell_type": "markdown",
   "id": "8c04373c-a0f6-44c3-a3c9-c5b8d6030303",
   "metadata": {},
   "source": [
    "# Theorem 2"
   ]
  },
  {
   "cell_type": "markdown",
   "id": "0d00e789-a73d-4118-b6f7-b6244e23d1ff",
   "metadata": {},
   "source": [
    "If we start with theorem 1 and multiply both sides by P(B), we get theorem 2"
   ]
  },
  {
   "cell_type": "raw",
   "id": "a9854548-a1f2-4b1a-9251-8b516cce2a99",
   "metadata": {},
   "source": [
    "P(A and B) = P(B) P(A|B)"
   ]
  },
  {
   "cell_type": "markdown",
   "id": "ced5543a-a8cb-4dfe-bc06-d45e8e02db03",
   "metadata": {},
   "source": [
    "This formula suggests a second way to compute a conjunction: instead of using the & operator, we can compute the product of two probabilities"
   ]
  },
  {
   "cell_type": "code",
   "execution_count": 6,
   "id": "6ab9b3b6-b64c-4a97-865f-c3ec64b1a99e",
   "metadata": {},
   "outputs": [
    {
     "data": {
      "text/plain": [
       "0.014824797843665768"
      ]
     },
     "execution_count": 6,
     "metadata": {},
     "output_type": "execute_result"
    }
   ],
   "source": [
    "prob(liberal & democrat)"
   ]
  },
  {
   "cell_type": "code",
   "execution_count": 7,
   "id": "2627d137-8843-42e9-ba55-f58931ef9ce4",
   "metadata": {},
   "outputs": [
    {
     "data": {
      "text/plain": [
       "0.014824797843665768"
      ]
     },
     "execution_count": 7,
     "metadata": {},
     "output_type": "execute_result"
    }
   ],
   "source": [
    "prob(democrat ) * conditional(liberal, democrat)"
   ]
  },
  {
   "cell_type": "markdown",
   "id": "16a6a255-bf2b-46c8-b523-2393d36f5ccc",
   "metadata": {},
   "source": [
    "# Theorem 3"
   ]
  },
  {
   "cell_type": "markdown",
   "id": "0d961552-622a-4859-b03a-bc1acc3d0a10",
   "metadata": {},
   "source": [
    "We have established that conjunction is commutative. In math notation, that means..."
   ]
  },
  {
   "cell_type": "raw",
   "id": "7ffb3948-c7c4-485f-983b-dcb8df8e2049",
   "metadata": {},
   "source": [
    "P(A and B) = P(B and A)"
   ]
  },
  {
   "cell_type": "markdown",
   "id": "a10c5954-b733-4615-8298-0d6b97e7fbd0",
   "metadata": {},
   "source": [
    "apply theorem two to both sides, we have..."
   ]
  },
  {
   "cell_type": "raw",
   "id": "88dc42fe-8699-4e5c-b7cb-7afb990f6d9b",
   "metadata": {},
   "source": [
    "P(B)P(A|B) = P(A)P(B|A)"
   ]
  },
  {
   "cell_type": "markdown",
   "id": "f0aaa54f-6d35-41c3-b3d1-67bcde09d032",
   "metadata": {},
   "source": [
    "If we divide by P(B) we get... "
   ]
  },
  {
   "cell_type": "code",
   "execution_count": 8,
   "id": "4d626dff-6bcc-48da-a762-0c191193fb8f",
   "metadata": {},
   "outputs": [],
   "source": [
    "#           P(A)P(B|A)\n",
    "# P(A|B) = ------------- = Baye's theorem\n",
    "#              P(B)"
   ]
  },
  {
   "cell_type": "markdown",
   "id": "3643e0ad-2c34-4155-8689-d12e740c0d6c",
   "metadata": {},
   "source": [
    "The fraction of bankers who are liberal"
   ]
  },
  {
   "cell_type": "code",
   "execution_count": 9,
   "id": "82601827-4e5e-4884-ba17-de99e86bb67f",
   "metadata": {},
   "outputs": [
    {
     "data": {
      "text/plain": [
       "0.2956521739130435"
      ]
     },
     "execution_count": 9,
     "metadata": {},
     "output_type": "execute_result"
    }
   ],
   "source": [
    "conditional(liberal, given=banker)"
   ]
  },
  {
   "cell_type": "code",
   "execution_count": 10,
   "id": "44c70f55-5701-49a7-942b-50756708bb0d",
   "metadata": {},
   "outputs": [
    {
     "data": {
      "text/plain": [
       "0.2956521739130435"
      ]
     },
     "execution_count": 10,
     "metadata": {},
     "output_type": "execute_result"
    }
   ],
   "source": [
    "#Bayes Theorem\n",
    "\n",
    "prob(liberal) * conditional(banker, liberal) / prob(banker)"
   ]
  },
  {
   "cell_type": "markdown",
   "id": "98ba6aa3-59bd-4165-9d10-86a09158a470",
   "metadata": {},
   "source": [
    "# Law of Total Probability"
   ]
  },
  {
   "cell_type": "markdown",
   "id": "a32a3234-7117-421d-8c29-2b4aec38deb8",
   "metadata": {},
   "source": [
    "Bayesian Statistics: Law of total probability expressed in mathematical notation"
   ]
  },
  {
   "cell_type": "code",
   "execution_count": 11,
   "id": "d2f5320d-a9fc-4986-b592-810a8e09418a",
   "metadata": {},
   "outputs": [],
   "source": [
    "# P(A) = P(B1 and A) + P(B2 and A)"
   ]
  },
  {
   "cell_type": "markdown",
   "id": "cd656b83-adcf-4eb8-a692-ab9b436dae94",
   "metadata": {},
   "source": [
    "Total probability of A is t he sum of two possibilities either B1 and A are true or B2 and A are true.\n",
    "\n",
    "This is true if...\n",
    "\n",
    "- Mutually Exclusive, means that only one of them can be true and...\n",
    "- Collectively Exhaustive, which means that one of them must be true"
   ]
  },
  {
   "cell_type": "markdown",
   "id": "40ca45c5-ab11-47fa-9a07-024d5a4c122d",
   "metadata": {},
   "source": [
    "## example"
   ]
  },
  {
   "cell_type": "code",
   "execution_count": 12,
   "id": "6bbde93b-0fc8-4844-8bd1-490bfbae4ab6",
   "metadata": {},
   "outputs": [
    {
     "data": {
      "text/plain": [
       "0.07749326145552561"
      ]
     },
     "execution_count": 12,
     "metadata": {},
     "output_type": "execute_result"
    }
   ],
   "source": [
    "# probability that a respondent is a banker\n",
    "\n",
    "prob(banker)"
   ]
  },
  {
   "cell_type": "code",
   "execution_count": 13,
   "id": "1fd5eba6-a1f2-498c-ad89-63492b54dc35",
   "metadata": {},
   "outputs": [],
   "source": [
    "# create the male respondent variable\n",
    "male = (gss_df['SEX'] == 1)"
   ]
  },
  {
   "cell_type": "markdown",
   "id": "6bca0434-7f23-415f-9f3d-4173c9bd8363",
   "metadata": {},
   "source": [
    "### Total probability of banker"
   ]
  },
  {
   "cell_type": "code",
   "execution_count": 14,
   "id": "898c2381-4d80-4105-8d6a-25d1c73b65c8",
   "metadata": {},
   "outputs": [
    {
     "data": {
      "text/plain": [
       "0.07749326145552561"
      ]
     },
     "execution_count": 14,
     "metadata": {},
     "output_type": "execute_result"
    }
   ],
   "source": [
    "prob(male & banker) + prob(female & banker)"
   ]
  },
  {
   "cell_type": "code",
   "execution_count": 15,
   "id": "7501ec6c-8bed-473f-a3cc-ccaf17c7d381",
   "metadata": {},
   "outputs": [
    {
     "data": {
      "text/plain": [
       "2    793\n",
       "1    691\n",
       "Name: SEX, dtype: int64"
      ]
     },
     "execution_count": 15,
     "metadata": {},
     "output_type": "execute_result"
    }
   ],
   "source": [
    "gss_df['SEX'].value_counts()"
   ]
  },
  {
   "cell_type": "code",
   "execution_count": 16,
   "id": "08f6f5ea-cfef-4e9c-ae33-6998344ec2d2",
   "metadata": {},
   "outputs": [],
   "source": [
    "#Theorem 2\n",
    "# P(A) = P(B1)P(A|B1) + P(B2)P(A|B2)"
   ]
  },
  {
   "cell_type": "code",
   "execution_count": 17,
   "id": "8f465b31-055c-4969-ae58-dc3e4e7b8cb0",
   "metadata": {},
   "outputs": [
    {
     "data": {
      "text/plain": [
       "0.0774932614555256"
      ]
     },
     "execution_count": 17,
     "metadata": {},
     "output_type": "execute_result"
    }
   ],
   "source": [
    "(prob(male) * conditional(banker, given=male) + prob(female) * conditional(banker, given=female))"
   ]
  },
  {
   "cell_type": "code",
   "execution_count": 18,
   "id": "0925d5be-1d92-4620-af2c-92cb82af7020",
   "metadata": {},
   "outputs": [],
   "source": [
    "# P(A) = ΣP(B)P(A|B)"
   ]
  },
  {
   "cell_type": "code",
   "execution_count": 19,
   "id": "dbef881d-2239-4649-96e1-71e37ba9e501",
   "metadata": {},
   "outputs": [
    {
     "data": {
      "text/plain": [
       "1     22\n",
       "2    201\n",
       "3    207\n",
       "4    564\n",
       "5    221\n",
       "6    160\n",
       "7     35\n",
       "8     70\n",
       "9      4\n",
       "Name: POLVIEWS, dtype: int64"
      ]
     },
     "execution_count": 19,
     "metadata": {},
     "output_type": "execute_result"
    }
   ],
   "source": [
    "B = gss_df['POLVIEWS']\n",
    "B.value_counts().sort_index()"
   ]
  },
  {
   "cell_type": "code",
   "execution_count": 20,
   "id": "82d89de0-bb65-49d6-9884-14f5e3a495f4",
   "metadata": {},
   "outputs": [
    {
     "data": {
      "text/plain": [
       "0.03455035530507229"
      ]
     },
     "execution_count": 20,
     "metadata": {},
     "output_type": "execute_result"
    }
   ],
   "source": [
    "#Looking at moderates\n",
    "i=4\n",
    "prob(B==i) * conditional(banker, B==1)"
   ]
  },
  {
   "cell_type": "code",
   "execution_count": 21,
   "id": "e1e6f405-664e-4785-a97b-dc17b6a79dc9",
   "metadata": {},
   "outputs": [
    {
     "data": {
      "text/plain": [
       "0.0774932614555256"
      ]
     },
     "execution_count": 21,
     "metadata": {},
     "output_type": "execute_result"
    }
   ],
   "source": [
    "#compute summation\n",
    "\n",
    "sum(prob(B==i) * conditional(banker, B==i)\n",
    "    for i in range(1, 9))"
   ]
  },
  {
   "cell_type": "markdown",
   "id": "e311a493-553a-454c-b8df-648142d4376e",
   "metadata": {},
   "source": [
    "# Exercises\n",
    "\n",
    "The probability that Linda is a female banker,\n",
    "\n",
    "The probability that Linda is a liberal female banker, and\n",
    "\n",
    "The probability that Linda is a liberal female banker and a Democrat."
   ]
  },
  {
   "cell_type": "code",
   "execution_count": 22,
   "id": "6a5672f3-4a9e-4f3b-ab30-b45034ae19fd",
   "metadata": {},
   "outputs": [
    {
     "data": {
      "text/plain": [
       "0.05592991913746631"
      ]
     },
     "execution_count": 22,
     "metadata": {},
     "output_type": "execute_result"
    }
   ],
   "source": [
    "prob(female & banker)"
   ]
  },
  {
   "cell_type": "code",
   "execution_count": 23,
   "id": "e05cef33-ae22-4093-ae4f-38ca7c9e0011",
   "metadata": {},
   "outputs": [
    {
     "data": {
      "text/plain": [
       "0.01752021563342318"
      ]
     },
     "execution_count": 23,
     "metadata": {},
     "output_type": "execute_result"
    }
   ],
   "source": [
    "prob(liberal & female & banker)"
   ]
  },
  {
   "cell_type": "code",
   "execution_count": 24,
   "id": "5c4370ba-62c0-4047-9e94-6ba71de62f23",
   "metadata": {},
   "outputs": [
    {
     "data": {
      "text/plain": [
       "0.0013477088948787063"
      ]
     },
     "execution_count": 24,
     "metadata": {},
     "output_type": "execute_result"
    }
   ],
   "source": [
    "prob(liberal & female & banker & democrat)"
   ]
  },
  {
   "cell_type": "markdown",
   "id": "ed897498-a5eb-421c-bb2b-1d5a6943a51c",
   "metadata": {},
   "source": [
    "Exercise: Use conditional to compute the following probabilities:\n",
    "\n",
    "What is the probability that a respondent is liberal, given that they are a Democrat?\n",
    "\n",
    "What is the probability that a respondent is a Democrat, given that they are liberal"
   ]
  },
  {
   "cell_type": "code",
   "execution_count": 25,
   "id": "41bea9fa-daa0-45bc-816e-765a42b31c0a",
   "metadata": {},
   "outputs": [
    {
     "data": {
      "text/plain": [
       "1.0"
      ]
     },
     "execution_count": 25,
     "metadata": {},
     "output_type": "execute_result"
    }
   ],
   "source": [
    "conditional(liberal, given=democrat)"
   ]
  },
  {
   "cell_type": "code",
   "execution_count": 26,
   "id": "90c66b42-5c21-481c-b059-c77d607f8ed4",
   "metadata": {},
   "outputs": [
    {
     "data": {
      "text/plain": [
       "0.05116279069767442"
      ]
     },
     "execution_count": 26,
     "metadata": {},
     "output_type": "execute_result"
    }
   ],
   "source": [
    "conditional(democrat, given=liberal)"
   ]
  },
  {
   "cell_type": "markdown",
   "id": "605fcb01-c146-4d65-b99b-ed0852135c77",
   "metadata": {},
   "source": [
    "Use prob and conditional to compute the following probabilities.\n",
    "\n",
    "What is the probability that a randomly chosen respondent is a young liberal?\n",
    "\n",
    "What is the probability that a young person is liberal?\n",
    "\n",
    "What fraction of respondents are old conservatives?\n",
    "\n",
    "What fraction of conservatives are old?\n",
    "\n",
    "For each statement, think about whether it is expressing a conjunction, a conditional probability, or both."
   ]
  },
  {
   "cell_type": "code",
   "execution_count": 27,
   "id": "cdffa0a0-5742-4cf6-b21c-0b802057d6ae",
   "metadata": {},
   "outputs": [
    {
     "data": {
      "text/plain": [
       "0.2560646900269542"
      ]
     },
     "execution_count": 27,
     "metadata": {},
     "output_type": "execute_result"
    }
   ],
   "source": [
    "# young = gss_df['AGE'] < 30 accidently made two age columns\n",
    "young = (gss_df['AGE'] <= 29)\n",
    "prob(young)"
   ]
  },
  {
   "cell_type": "code",
   "execution_count": 28,
   "id": "054d8681-6fb0-4004-a6f4-ad7ea83db02c",
   "metadata": {},
   "outputs": [
    {
     "data": {
      "text/plain": [
       "0.1738544474393531"
      ]
     },
     "execution_count": 28,
     "metadata": {},
     "output_type": "execute_result"
    }
   ],
   "source": [
    "old = (gss_df['AGE'] >= 65)\n",
    "prob(old)"
   ]
  },
  {
   "cell_type": "code",
   "execution_count": 29,
   "id": "997a6884-0b99-42a4-aeb7-863715354d96",
   "metadata": {},
   "outputs": [
    {
     "data": {
      "text/plain": [
       "0.330188679245283"
      ]
     },
     "execution_count": 29,
     "metadata": {},
     "output_type": "execute_result"
    }
   ],
   "source": [
    "conservative = (gss_df['POLVIEWS'] >= 5)\n",
    "prob(conservative)"
   ]
  },
  {
   "cell_type": "markdown",
   "id": "8b5d26f4-f8bc-4f9c-9094-9443e91112ee",
   "metadata": {},
   "source": [
    "Answers to questions"
   ]
  },
  {
   "cell_type": "code",
   "execution_count": 30,
   "id": "b4c8a231-34d9-4492-af20-f9cf604a965a",
   "metadata": {},
   "outputs": [
    {
     "data": {
      "text/plain": [
       "0.10849056603773585"
      ]
     },
     "execution_count": 30,
     "metadata": {},
     "output_type": "execute_result"
    }
   ],
   "source": [
    "prob(young & liberal)"
   ]
  },
  {
   "cell_type": "code",
   "execution_count": 31,
   "id": "586d3037-f079-42c5-bb7a-b6b20cea68d0",
   "metadata": {},
   "outputs": [
    {
     "data": {
      "text/plain": [
       "0.4236842105263158"
      ]
     },
     "execution_count": 31,
     "metadata": {},
     "output_type": "execute_result"
    }
   ],
   "source": [
    "conditional(liberal, given=young)"
   ]
  },
  {
   "cell_type": "code",
   "execution_count": 32,
   "id": "0d46b2a2-348b-4594-89e4-872a0daaa5c7",
   "metadata": {},
   "outputs": [
    {
     "data": {
      "text/plain": [
       "0.06940700808625337"
      ]
     },
     "execution_count": 32,
     "metadata": {},
     "output_type": "execute_result"
    }
   ],
   "source": [
    "prob(old & conservative)"
   ]
  },
  {
   "cell_type": "code",
   "execution_count": 33,
   "id": "5fe2f809-5f9b-4593-878a-160757d23d06",
   "metadata": {},
   "outputs": [
    {
     "data": {
      "text/plain": [
       "0.21020408163265306"
      ]
     },
     "execution_count": 33,
     "metadata": {},
     "output_type": "execute_result"
    }
   ],
   "source": [
    "conditional(old, given=conservative)"
   ]
  },
  {
   "cell_type": "code",
   "execution_count": null,
   "id": "03392a85-e798-45fd-93a8-8d04279d2654",
   "metadata": {},
   "outputs": [],
   "source": [
    " #Testing"
   ]
  }
 ],
 "metadata": {
  "kernelspec": {
   "display_name": "Python 3 (ipykernel)",
   "language": "python",
   "name": "python3"
  },
  "language_info": {
   "codemirror_mode": {
    "name": "ipython",
    "version": 3
   },
   "file_extension": ".py",
   "mimetype": "text/x-python",
   "name": "python",
   "nbconvert_exporter": "python",
   "pygments_lexer": "ipython3",
   "version": "3.9.5"
  }
 },
 "nbformat": 4,
 "nbformat_minor": 5
}
