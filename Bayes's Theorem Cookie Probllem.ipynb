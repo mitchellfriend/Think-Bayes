{
 "cells": [
  {
   "cell_type": "raw",
   "id": "fe531105-e8f6-41f5-9cd6-e110d3afa3aa",
   "metadata": {},
   "source": [
    "          P(A)P(B|A)\n",
    " P(A|B) = ------------\n",
    "             P(B)"
   ]
  },
  {
   "cell_type": "markdown",
   "id": "686ef438-c843-442b-aa9f-a4553e910a58",
   "metadata": {},
   "source": [
    "# The Cookie Problem"
   ]
  },
  {
   "cell_type": "markdown",
   "id": "06f914d1-374d-4d0c-a230-4ce7a9e440d4",
   "metadata": {},
   "source": [
    "- Bowl 1 contains 30 vanilla cookies and 10 chocolate cookies\n",
    "- Bowl 2 contains 20 vanilla cookies and 20 chocolate cookies"
   ]
  },
  {
   "cell_type": "markdown",
   "id": "7a8d8ee1-0268-4d77-b7fa-6e107a227d50",
   "metadata": {},
   "source": [
    "You choose one of the bowls at random and, without looking, choose a cookie at random.\n",
    "\n",
    "- If the cookie was vanilla, what was the probability it came from bowl 1"
   ]
  },
  {
   "cell_type": "markdown",
   "id": "0d998800-0945-4e37-b609-76a6ade7d0fc",
   "metadata": {},
   "source": [
    "The conditional probability that we chose from Bowl 1 given that we got a vanilla cookie\n",
    "\n",
    "(P(B1|V)"
   ]
  },
  {
   "cell_type": "code",
   "execution_count": null,
   "id": "79b4a21f-25ba-4fab-9753-611fb1912e71",
   "metadata": {},
   "outputs": [],
   "source": []
  }
 ],
 "metadata": {
  "kernelspec": {
   "display_name": "Python 3 (ipykernel)",
   "language": "python",
   "name": "python3"
  },
  "language_info": {
   "codemirror_mode": {
    "name": "ipython",
    "version": 3
   },
   "file_extension": ".py",
   "mimetype": "text/x-python",
   "name": "python",
   "nbconvert_exporter": "python",
   "pygments_lexer": "ipython3",
   "version": "3.9.5"
  }
 },
 "nbformat": 4,
 "nbformat_minor": 5
}
