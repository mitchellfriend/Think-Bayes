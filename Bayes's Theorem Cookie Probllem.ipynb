{
 "cells": [
  {
   "cell_type": "raw",
   "id": "fe531105-e8f6-41f5-9cd6-e110d3afa3aa",
   "metadata": {},
   "source": [
    "          P(A)P(B|A)\n",
    " P(A|B) = ------------\n",
    "             P(B)"
   ]
  },
  {
   "cell_type": "markdown",
   "id": "686ef438-c843-442b-aa9f-a4553e910a58",
   "metadata": {},
   "source": [
    "# The Cookie Problem"
   ]
  },
  {
   "cell_type": "markdown",
   "id": "06f914d1-374d-4d0c-a230-4ce7a9e440d4",
   "metadata": {},
   "source": [
    "- Bowl 1 contains 30 vanilla cookies and 10 chocolate cookies\n",
    "- Bowl 2 contains 20 vanilla cookies and 20 chocolate cookies"
   ]
  },
  {
   "cell_type": "markdown",
   "id": "7a8d8ee1-0268-4d77-b7fa-6e107a227d50",
   "metadata": {},
   "source": [
    "You choose one of the bowls at random and, without looking, choose a cookie at random.\n",
    "\n",
    "- If the cookie was vanilla, what was the probability it came from bowl 1"
   ]
  },
  {
   "cell_type": "markdown",
   "id": "0d998800-0945-4e37-b609-76a6ade7d0fc",
   "metadata": {},
   "source": [
    "## What we want\n",
    "What we want: (P(B1|V) --> Conditional Probability that we chode from bowl 1 given that we got a vanilla cookie\n",
    "\n",
    "## What we are given from the statement\n",
    "1. P(V|B1) --> The conditional probability of getting a vanilla cookie, given that we chose from Bowl 1\n",
    "2. P(V|B2) --> Thhe conditional Probability of getting a vanilla cookie, given that we chose from Bowl 2"
   ]
  },
  {
   "cell_type": "markdown",
   "id": "848e4f6f-0cd3-465d-82e7-01519bb6655c",
   "metadata": {},
   "source": [
    "Bayes's theorem tells us how these two statements are related"
   ]
  },
  {
   "cell_type": "raw",
   "id": "aed135ac-36ca-413f-b96d-dd184fe31695",
   "metadata": {},
   "source": [
    "             P(B1) P(V|B1)\n",
    "P(B1|V) = ---------------------\n",
    "                  P(V)"
   ]
  },
  {
   "cell_type": "markdown",
   "id": "cb82c700-bbe2-401b-85fa-4f78405dfe37",
   "metadata": {},
   "source": [
    "The answer is the solution to P(B1|V)\n",
    "\n",
    "- P(B1) = The probability that we chose Bowl 1 , unconditioned by what kind of cookie we got. Since the problem says we chose a bowl at random we assume P(B1) = 1/2\n",
    "\n",
    "- P(V|B1) = The probability of getting a vanilla cookie from Bowl 1. P(V|B1) = 3/4\n",
    "\n",
    "- P(V) = The probability of drawing a vanilla cookie from either bowl"
   ]
  },
  {
   "cell_type": "markdown",
   "id": "9f72924b-affd-479e-86a5-d75af18eeed4",
   "metadata": {},
   "source": [
    "## Computing P(V) - Law of total probability\n",
    "\n",
    "P(V) = P(B1) P(V|B1) + P(B2) P(V|B2)"
   ]
  },
  {
   "cell_type": "code",
   "execution_count": 11,
   "id": "d2592834-08ee-4e9e-a2c9-32c2559b4295",
   "metadata": {},
   "outputs": [
    {
     "name": "stdout",
     "output_type": "stream",
     "text": [
      "0.625 or 5/8\n"
     ]
    }
   ],
   "source": [
    "P_of_V = (0.5)*(0.75) + (0.5)*(0.5)\n",
    "print(P_of_V, \"or 5/8\")"
   ]
  },
  {
   "cell_type": "markdown",
   "id": "bbb349e4-b7d4-49b0-8aff-19794d2116f2",
   "metadata": {},
   "source": [
    "Since we had an equal chance of choosing either bowl and the bowls contains the same number of cookies we had the same chance of choosing any cookie\n",
    "\n",
    "\n",
    "\n"
   ]
  },
  {
   "cell_type": "markdown",
   "id": "3cc7475d-70ee-4230-91df-9c3e60a18d1c",
   "metadata": {},
   "source": [
    "## Applying Bayes's Theorem to the problem"
   ]
  },
  {
   "cell_type": "raw",
   "id": "3b44bcf6-b156-470d-af25-dd5111e829b7",
   "metadata": {},
   "source": [
    "\n",
    "               (1/2) (3/4)\n",
    "P(B1|V) = ---------------------\n",
    "                  (5/8)\n"
   ]
  },
  {
   "cell_type": "code",
   "execution_count": 13,
   "id": "ffbfc3f7-1a0f-4d19-a892-bf22f3b2515d",
   "metadata": {},
   "outputs": [
    {
     "data": {
      "text/plain": [
       "0.6"
      ]
     },
     "execution_count": 13,
     "metadata": {},
     "output_type": "execute_result"
    }
   ],
   "source": [
    "P_B1_given_V = ((1/2) * (3/4)) / (5/8)\n",
    "P_B1_given_V"
   ]
  },
  {
   "cell_type": "markdown",
   "id": "6ca4eda7-bb16-4464-af0e-6f9529562385",
   "metadata": {},
   "source": [
    "## Answer: 60%"
   ]
  },
  {
   "cell_type": "markdown",
   "id": "6d7585bf-2332-4da9-bede-451ba2210a38",
   "metadata": {},
   "source": [
    "# Diachronic Bayes"
   ]
  },
  {
   "cell_type": "markdown",
   "id": "240073aa-e79d-4ac0-8aa2-927b6a5b682c",
   "metadata": {},
   "source": [
    "Update the probability of a hypothesis, H given some body of data, D"
   ]
  },
  {
   "cell_type": "raw",
   "id": "515fba3a-0524-475b-8a65-9f69f7b40aae",
   "metadata": {},
   "source": [
    "          P(H) P(D|H)\n",
    "P(H|D) = --------------\n",
    "             P(D)"
   ]
  },
  {
   "cell_type": "markdown",
   "id": "fa1fa035-4566-47f6-a61c-4712e17b628b",
   "metadata": {},
   "source": [
    "- **P(H)** --> Probability of the hypothesis before we see the data, called the **Prior Probability** or **Prior** \n",
    "\n",
    "- **P(H|D)** --> Probability of the hypothesis after we see the data, called the **Posterior**\n",
    "\n",
    "- **P(D|H)** --> Probability of the data under the hypothesis, called **Likelihood**\n",
    "\n",
    "- **P(D)** --> **Total Probability of the data**, under any hypothesis"
   ]
  },
  {
   "cell_type": "code",
   "execution_count": null,
   "id": "a2b53132-2132-4a9f-9d19-e321ad78cbf2",
   "metadata": {},
   "outputs": [],
   "source": []
  }
 ],
 "metadata": {
  "kernelspec": {
   "display_name": "Python 3 (ipykernel)",
   "language": "python",
   "name": "python3"
  },
  "language_info": {
   "codemirror_mode": {
    "name": "ipython",
    "version": 3
   },
   "file_extension": ".py",
   "mimetype": "text/x-python",
   "name": "python",
   "nbconvert_exporter": "python",
   "pygments_lexer": "ipython3",
   "version": "3.9.5"
  }
 },
 "nbformat": 4,
 "nbformat_minor": 5
}
