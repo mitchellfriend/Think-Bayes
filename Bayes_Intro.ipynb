{
 "cells": [
  {
   "cell_type": "code",
   "execution_count": 1,
   "id": "85473e48-97fb-4fd4-9ad3-e33cd4f17a1c",
   "metadata": {},
   "outputs": [],
   "source": [
    "import pandas as pd"
   ]
  },
  {
   "cell_type": "code",
   "execution_count": 7,
   "id": "aaadfbec-0524-456f-98ea-0d8df407a59a",
   "metadata": {},
   "outputs": [
    {
     "data": {
      "text/plain": [
       "0"
      ]
     },
     "execution_count": 7,
     "metadata": {},
     "output_type": "execute_result"
    }
   ],
   "source": []
  },
  {
   "cell_type": "code",
   "execution_count": 28,
   "id": "edb24639-67f6-47a4-8f9b-75ce8544afb2",
   "metadata": {},
   "outputs": [
    {
     "data": {
      "text/html": [
       "<div>\n",
       "<style scoped>\n",
       "    .dataframe tbody tr th:only-of-type {\n",
       "        vertical-align: middle;\n",
       "    }\n",
       "\n",
       "    .dataframe tbody tr th {\n",
       "        vertical-align: top;\n",
       "    }\n",
       "\n",
       "    .dataframe thead th {\n",
       "        text-align: right;\n",
       "    }\n",
       "</style>\n",
       "<table border=\"1\" class=\"dataframe\">\n",
       "  <thead>\n",
       "    <tr style=\"text-align: right;\">\n",
       "      <th></th>\n",
       "      <th>Variable</th>\n",
       "      <th>FOUND</th>\n",
       "      <th>OCC10</th>\n",
       "      <th>OCCINDV</th>\n",
       "      <th>OCCSTATUS</th>\n",
       "      <th>OCCTAG</th>\n",
       "      <th>PRESTG10</th>\n",
       "      <th>PRESTG105PLUS</th>\n",
       "      <th>INDUS10</th>\n",
       "      <th>INDSTATUS</th>\n",
       "      <th>...</th>\n",
       "      <th>FAMDIF16</th>\n",
       "      <th>VETKIND</th>\n",
       "      <th>CHLDNUM</th>\n",
       "      <th>CHLDSOON</th>\n",
       "      <th>OTHER</th>\n",
       "      <th>OTH16</th>\n",
       "      <th>SPOTHER</th>\n",
       "      <th>SPOTH16</th>\n",
       "      <th>HRS2</th>\n",
       "      <th>SPHRS2</th>\n",
       "    </tr>\n",
       "  </thead>\n",
       "  <tbody>\n",
       "    <tr>\n",
       "      <th>0</th>\n",
       "      <td>Label</td>\n",
       "      <td>Case was retrievable in 2012</td>\n",
       "      <td>R's census occupation code (2010)</td>\n",
       "      <td>R's occ/ind verbatim retrieved</td>\n",
       "      <td>OCC10 coding status</td>\n",
       "      <td>OCC10 coding tag</td>\n",
       "      <td>R's occupational prestige score (2010)</td>\n",
       "      <td>R's occupational prestige score using threshol...</td>\n",
       "      <td>R's industry code (NAICS 2007)</td>\n",
       "      <td>INDUS10 coding status</td>\n",
       "      <td>...</td>\n",
       "      <td>Reason not living with parents</td>\n",
       "      <td>Branch of service</td>\n",
       "      <td>How many children expected</td>\n",
       "      <td>Children expected in 5 years</td>\n",
       "      <td>Other protestant denominations</td>\n",
       "      <td>Other protestant denominations</td>\n",
       "      <td>Other protestant denominations</td>\n",
       "      <td>Other protestant denominations</td>\n",
       "      <td>Number of hours usually work a week</td>\n",
       "      <td>No. of hrs spouse usually works a week</td>\n",
       "    </tr>\n",
       "    <tr>\n",
       "      <th>1</th>\n",
       "      <td>NaN</td>\n",
       "      <td>1</td>\n",
       "      <td>5620</td>\n",
       "      <td>1</td>\n",
       "      <td>3</td>\n",
       "      <td>1</td>\n",
       "      <td>25</td>\n",
       "      <td>12</td>\n",
       "      <td>4970</td>\n",
       "      <td>3</td>\n",
       "      <td>...</td>\n",
       "      <td>0</td>\n",
       "      <td>-1</td>\n",
       "      <td>0</td>\n",
       "      <td>-1</td>\n",
       "      <td>0</td>\n",
       "      <td>0</td>\n",
       "      <td>0</td>\n",
       "      <td>0</td>\n",
       "      <td>-1</td>\n",
       "      <td>-1</td>\n",
       "    </tr>\n",
       "    <tr>\n",
       "      <th>2</th>\n",
       "      <td>NaN</td>\n",
       "      <td>1</td>\n",
       "      <td>2040</td>\n",
       "      <td>1</td>\n",
       "      <td>3</td>\n",
       "      <td>1</td>\n",
       "      <td>66</td>\n",
       "      <td>86</td>\n",
       "      <td>9160</td>\n",
       "      <td>3</td>\n",
       "      <td>...</td>\n",
       "      <td>0</td>\n",
       "      <td>-1</td>\n",
       "      <td>0</td>\n",
       "      <td>-1</td>\n",
       "      <td>36</td>\n",
       "      <td>0</td>\n",
       "      <td>36</td>\n",
       "      <td>36</td>\n",
       "      <td>-1</td>\n",
       "      <td>-1</td>\n",
       "    </tr>\n",
       "    <tr>\n",
       "      <th>3</th>\n",
       "      <td>NaN</td>\n",
       "      <td>1</td>\n",
       "      <td>0</td>\n",
       "      <td>0</td>\n",
       "      <td>1</td>\n",
       "      <td>1</td>\n",
       "      <td>0</td>\n",
       "      <td>0</td>\n",
       "      <td>0</td>\n",
       "      <td>1</td>\n",
       "      <td>...</td>\n",
       "      <td>1</td>\n",
       "      <td>-1</td>\n",
       "      <td>0</td>\n",
       "      <td>-1</td>\n",
       "      <td>0</td>\n",
       "      <td>0</td>\n",
       "      <td>0</td>\n",
       "      <td>0</td>\n",
       "      <td>-1</td>\n",
       "      <td>-1</td>\n",
       "    </tr>\n",
       "    <tr>\n",
       "      <th>4</th>\n",
       "      <td>NaN</td>\n",
       "      <td>1</td>\n",
       "      <td>0</td>\n",
       "      <td>0</td>\n",
       "      <td>1</td>\n",
       "      <td>1</td>\n",
       "      <td>0</td>\n",
       "      <td>0</td>\n",
       "      <td>0</td>\n",
       "      <td>1</td>\n",
       "      <td>...</td>\n",
       "      <td>0</td>\n",
       "      <td>-1</td>\n",
       "      <td>0</td>\n",
       "      <td>-1</td>\n",
       "      <td>0</td>\n",
       "      <td>0</td>\n",
       "      <td>0</td>\n",
       "      <td>0</td>\n",
       "      <td>-1</td>\n",
       "      <td>-1</td>\n",
       "    </tr>\n",
       "  </tbody>\n",
       "</table>\n",
       "<p>5 rows × 339 columns</p>\n",
       "</div>"
      ],
      "text/plain": [
       "  Variable                         FOUND                              OCC10  \\\n",
       "0    Label  Case was retrievable in 2012  R's census occupation code (2010)   \n",
       "1      NaN                             1                               5620   \n",
       "2      NaN                             1                               2040   \n",
       "3      NaN                             1                                  0   \n",
       "4      NaN                             1                                  0   \n",
       "\n",
       "                          OCCINDV            OCCSTATUS            OCCTAG  \\\n",
       "0  R's occ/ind verbatim retrieved  OCC10 coding status  OCC10 coding tag   \n",
       "1                               1                    3                 1   \n",
       "2                               1                    3                 1   \n",
       "3                               0                    1                 1   \n",
       "4                               0                    1                 1   \n",
       "\n",
       "                                 PRESTG10  \\\n",
       "0  R's occupational prestige score (2010)   \n",
       "1                                      25   \n",
       "2                                      66   \n",
       "3                                       0   \n",
       "4                                       0   \n",
       "\n",
       "                                       PRESTG105PLUS  \\\n",
       "0  R's occupational prestige score using threshol...   \n",
       "1                                                 12   \n",
       "2                                                 86   \n",
       "3                                                  0   \n",
       "4                                                  0   \n",
       "\n",
       "                          INDUS10              INDSTATUS  ...  \\\n",
       "0  R's industry code (NAICS 2007)  INDUS10 coding status  ...   \n",
       "1                            4970                      3  ...   \n",
       "2                            9160                      3  ...   \n",
       "3                               0                      1  ...   \n",
       "4                               0                      1  ...   \n",
       "\n",
       "                         FAMDIF16            VETKIND  \\\n",
       "0  Reason not living with parents  Branch of service   \n",
       "1                               0                 -1   \n",
       "2                               0                 -1   \n",
       "3                               1                 -1   \n",
       "4                               0                 -1   \n",
       "\n",
       "                      CHLDNUM                      CHLDSOON  \\\n",
       "0  How many children expected  Children expected in 5 years   \n",
       "1                           0                            -1   \n",
       "2                           0                            -1   \n",
       "3                           0                            -1   \n",
       "4                           0                            -1   \n",
       "\n",
       "                            OTHER                           OTH16  \\\n",
       "0  Other protestant denominations  Other protestant denominations   \n",
       "1                               0                               0   \n",
       "2                              36                               0   \n",
       "3                               0                               0   \n",
       "4                               0                               0   \n",
       "\n",
       "                          SPOTHER                         SPOTH16  \\\n",
       "0  Other protestant denominations  Other protestant denominations   \n",
       "1                               0                               0   \n",
       "2                              36                              36   \n",
       "3                               0                               0   \n",
       "4                               0                               0   \n",
       "\n",
       "                                  HRS2                                  SPHRS2  \n",
       "0  Number of hours usually work a week  No. of hrs spouse usually works a week  \n",
       "1                                   -1                                      -1  \n",
       "2                                   -1                                      -1  \n",
       "3                                   -1                                      -1  \n",
       "4                                   -1                                      -1  \n",
       "\n",
       "[5 rows x 339 columns]"
      ]
     },
     "execution_count": 28,
     "metadata": {},
     "output_type": "execute_result"
    }
   ],
   "source": [
    "gss = pd.read_csv('GSS1974.csv')\n",
    "gss.head()"
   ]
  },
  {
   "cell_type": "code",
   "execution_count": 68,
   "id": "bc45a91d-a183-4c47-804d-fcf518eaa88c",
   "metadata": {},
   "outputs": [
    {
     "data": {
      "text/html": [
       "<div>\n",
       "<style scoped>\n",
       "    .dataframe tbody tr th:only-of-type {\n",
       "        vertical-align: middle;\n",
       "    }\n",
       "\n",
       "    .dataframe tbody tr th {\n",
       "        vertical-align: top;\n",
       "    }\n",
       "\n",
       "    .dataframe thead th {\n",
       "        text-align: right;\n",
       "    }\n",
       "</style>\n",
       "<table border=\"1\" class=\"dataframe\">\n",
       "  <thead>\n",
       "    <tr style=\"text-align: right;\">\n",
       "      <th></th>\n",
       "      <th>YEAR</th>\n",
       "      <th>AGE</th>\n",
       "      <th>AGE</th>\n",
       "      <th>SEX</th>\n",
       "      <th>POLVIEWS</th>\n",
       "      <th>PARTYID</th>\n",
       "      <th>INDUS10</th>\n",
       "    </tr>\n",
       "  </thead>\n",
       "  <tbody>\n",
       "    <tr>\n",
       "      <th>1</th>\n",
       "      <td>1974</td>\n",
       "      <td>21</td>\n",
       "      <td>21</td>\n",
       "      <td>1</td>\n",
       "      <td>4</td>\n",
       "      <td>2</td>\n",
       "      <td>4970</td>\n",
       "    </tr>\n",
       "    <tr>\n",
       "      <th>2</th>\n",
       "      <td>1974</td>\n",
       "      <td>41</td>\n",
       "      <td>41</td>\n",
       "      <td>1</td>\n",
       "      <td>5</td>\n",
       "      <td>0</td>\n",
       "      <td>9160</td>\n",
       "    </tr>\n",
       "    <tr>\n",
       "      <th>3</th>\n",
       "      <td>1974</td>\n",
       "      <td>83</td>\n",
       "      <td>83</td>\n",
       "      <td>2</td>\n",
       "      <td>6</td>\n",
       "      <td>0</td>\n",
       "      <td>0</td>\n",
       "    </tr>\n",
       "    <tr>\n",
       "      <th>4</th>\n",
       "      <td>1974</td>\n",
       "      <td>69</td>\n",
       "      <td>69</td>\n",
       "      <td>2</td>\n",
       "      <td>6</td>\n",
       "      <td>0</td>\n",
       "      <td>0</td>\n",
       "    </tr>\n",
       "    <tr>\n",
       "      <th>5</th>\n",
       "      <td>1974</td>\n",
       "      <td>58</td>\n",
       "      <td>58</td>\n",
       "      <td>2</td>\n",
       "      <td>6</td>\n",
       "      <td>1</td>\n",
       "      <td>2670</td>\n",
       "    </tr>\n",
       "  </tbody>\n",
       "</table>\n",
       "</div>"
      ],
      "text/plain": [
       "   YEAR  AGE  AGE  SEX  POLVIEWS  PARTYID  INDUS10\n",
       "1  1974   21   21    1         4        2     4970\n",
       "2  1974   41   41    1         5        0     9160\n",
       "3  1974   83   83    2         6        0        0\n",
       "4  1974   69   69    2         6        0        0\n",
       "5  1974   58   58    2         6        1     2670"
      ]
     },
     "execution_count": 68,
     "metadata": {},
     "output_type": "execute_result"
    }
   ],
   "source": [
    "gss_df = gss[['YEAR','AGE','AGE','SEX','POLVIEWS','PARTYID', 'INDUS10']].iloc[1: , :].astype(int)\n",
    "\n",
    "gss_df.head()"
   ]
  },
  {
   "cell_type": "code",
   "execution_count": 70,
   "id": "67c68031-37e8-43fe-ad9e-7a937bef2fdc",
   "metadata": {},
   "outputs": [
    {
     "data": {
      "text/plain": [
       "115"
      ]
     },
     "execution_count": 70,
     "metadata": {},
     "output_type": "execute_result"
    }
   ],
   "source": [
    "#Create the df and series\n",
    "banker = gss_df['INDUS10'] == 7860\n",
    "banker.sum()"
   ]
  },
  {
   "cell_type": "code",
   "execution_count": 71,
   "id": "40c6f8f1-36e9-4dc6-b06d-924f1e40123f",
   "metadata": {},
   "outputs": [
    {
     "data": {
      "text/plain": [
       "0.07749326145552561"
      ]
     },
     "execution_count": 71,
     "metadata": {},
     "output_type": "execute_result"
    }
   ],
   "source": [
    "#calculate the percentage of banker career\n",
    "#computes the fraction of true in the series\n",
    "banker.mean()"
   ]
  },
  {
   "cell_type": "code",
   "execution_count": 72,
   "id": "43e9003b-5190-411c-a140-8baf5e66fcf7",
   "metadata": {},
   "outputs": [
    {
     "data": {
      "text/plain": [
       "0.07749326145552561"
      ]
     },
     "execution_count": 72,
     "metadata": {},
     "output_type": "execute_result"
    }
   ],
   "source": [
    "#create probability function\n",
    "def prob(A):\n",
    "    \"\"\"Computes the probability of a proposition, A\"\"\"\n",
    "    return A.mean()\n",
    "\n",
    "prob(banker)"
   ]
  },
  {
   "cell_type": "code",
   "execution_count": 73,
   "id": "b14b969a-3f01-4f69-8aa7-692794116470",
   "metadata": {},
   "outputs": [
    {
     "data": {
      "text/plain": [
       "0.534366576819407"
      ]
     },
     "execution_count": 73,
     "metadata": {},
     "output_type": "execute_result"
    }
   ],
   "source": [
    "#do the same thing with sex\n",
    "female = (gss_df['SEX'] == 2)\n",
    "prob(female)"
   ]
  },
  {
   "cell_type": "code",
   "execution_count": 76,
   "id": "46dbe89f-e6d9-49a0-8562-199fae8c1c7c",
   "metadata": {},
   "outputs": [
    {
     "name": "stdout",
     "output_type": "stream",
     "text": [
      "0.28975741239892183\n",
      "0.014824797843665768\n"
     ]
    }
   ],
   "source": [
    "#once more with political party\n",
    "Liberal = (gss_df['POLVIEWS'] <= 3)\n",
    "democrat = (gss_df['POLVIEWS'] <= 1)\n",
    "print(prob(Liberal))\n",
    "print(prob(democrat))"
   ]
  },
  {
   "cell_type": "markdown",
   "id": "8c481091-9693-4e9e-8f43-8513887cfa13",
   "metadata": {},
   "source": [
    "# CONJUNCTION"
   ]
  },
  {
   "cell_type": "code",
   "execution_count": 87,
   "id": "0561a2c9-a5bc-41ad-bf51-9481d588a76a",
   "metadata": {},
   "outputs": [
    {
     "name": "stdout",
     "output_type": "stream",
     "text": [
      "Probability of Banker: 0.07749326145552561\n",
      "Probability of Democrat: 0.014824797843665768\n",
      "Probability of Democrat & Banker 0.0013477088948787063\n",
      "Probability of Banker & Democrat 0.0013477088948787063\n"
     ]
    }
   ],
   "source": [
    "print(\"Probability of Banker:\" , prob(banker))\n",
    "print(\"Probability of Democrat:\", prob(democrat))\n",
    "print(\"Probability of Democrat & Banker\", prob(democrat & banker))\n",
    "print(\"Probability of Banker & Democrat\", prob(banker & democrat))"
   ]
  },
  {
   "cell_type": "markdown",
   "id": "c8b89d0d-2583-4244-8ce5-e77d9dec47cc",
   "metadata": {},
   "source": [
    "# Conditional Probability"
   ]
  },
  {
   "cell_type": "markdown",
   "id": "31ffe0ec-4af4-4f00-8929-4220a8ec6417",
   "metadata": {},
   "source": [
    "1. What is the probability that a responent is a Democrat, given that they are a liberal"
   ]
  },
  {
   "cell_type": "code",
   "execution_count": 89,
   "id": "d93f47d9-dcb5-4139-ba23-c22b43243cde",
   "metadata": {},
   "outputs": [
    {
     "data": {
      "text/plain": [
       "0.05116279069767442"
      ]
     },
     "execution_count": 89,
     "metadata": {},
     "output_type": "execute_result"
    }
   ],
   "source": [
    "#Select liberals from democrats\n",
    "selected = democrat[Liberal]\n",
    "prob(selected)"
   ]
  },
  {
   "cell_type": "markdown",
   "id": "900cc002-4dae-4488-816c-fe6c38c41d57",
   "metadata": {},
   "source": [
    "2. What is the probabiliity that a respondent is female, given that they are a banker"
   ]
  },
  {
   "cell_type": "code",
   "execution_count": 90,
   "id": "2e663dc6-da35-4a35-bf91-cf36b1728062",
   "metadata": {},
   "outputs": [
    {
     "data": {
      "text/plain": [
       "0.7217391304347827"
      ]
     },
     "execution_count": 90,
     "metadata": {},
     "output_type": "execute_result"
    }
   ],
   "source": [
    "selected = female[banker]\n",
    "prob(selected)"
   ]
  },
  {
   "cell_type": "code",
   "execution_count": 92,
   "id": "059bc022-3252-4291-b798-965dab40148c",
   "metadata": {},
   "outputs": [],
   "source": [
    "#Creating a function\n",
    "def condition(proposition, given):\n",
    "    return prob(proposition[given])"
   ]
  },
  {
   "cell_type": "code",
   "execution_count": 94,
   "id": "a6f98ebc-6e64-4032-b4ec-6749653b5c3a",
   "metadata": {},
   "outputs": [
    {
     "data": {
      "text/plain": [
       "0.7217391304347827"
      ]
     },
     "execution_count": 94,
     "metadata": {},
     "output_type": "execute_result"
    }
   ],
   "source": [
    "condition(female, banker)"
   ]
  },
  {
   "cell_type": "markdown",
   "id": "525ec50d-7d63-4e3d-b57b-1b4792119260",
   "metadata": {},
   "source": [
    "3. What is the probability that a respondent is liberal, given that they are female"
   ]
  },
  {
   "cell_type": "code",
   "execution_count": 95,
   "id": "f4393b7e-799b-4b21-a021-b24a2aebe16f",
   "metadata": {},
   "outputs": [
    {
     "data": {
      "text/plain": [
       "0.27994955863808324"
      ]
     },
     "execution_count": 95,
     "metadata": {},
     "output_type": "execute_result"
    }
   ],
   "source": [
    "condition(Liberal, female)"
   ]
  },
  {
   "cell_type": "markdown",
   "id": "62660f99-d043-46b8-b227-a4c479e97568",
   "metadata": {},
   "source": [
    "## Conditional probability is not commutative"
   ]
  },
  {
   "cell_type": "code",
   "execution_count": 98,
   "id": "e1f95b62-4f7d-41fa-b34c-28c90d61fb5a",
   "metadata": {},
   "outputs": [
    {
     "name": "stdout",
     "output_type": "stream",
     "text": [
      "0.5162790697674419\n",
      "0.27994955863808324\n"
     ]
    }
   ],
   "source": [
    "print(condition(female, Liberal))\n",
    "print(condition(Liberal, female))"
   ]
  },
  {
   "cell_type": "markdown",
   "id": "1376d5cd-e1a4-4c41-a1d2-eb0c2ce77a1f",
   "metadata": {},
   "source": [
    "# Condition and Conjunction"
   ]
  },
  {
   "cell_type": "markdown",
   "id": "cf5e4122-7ed6-4b17-b520-18e453c67e66",
   "metadata": {},
   "source": [
    "Probability a respondent is female, given that they are a Liberal Democrat"
   ]
  },
  {
   "cell_type": "code",
   "execution_count": 102,
   "id": "faa4cb6c-18a4-4ca5-9785-4c8b885e6544",
   "metadata": {},
   "outputs": [
    {
     "data": {
      "text/plain": [
       "0.5"
      ]
     },
     "execution_count": 102,
     "metadata": {},
     "output_type": "execute_result"
    }
   ],
   "source": [
    "condition(female, given = Liberal & democrat)"
   ]
  },
  {
   "cell_type": "markdown",
   "id": "b8feda36-dba1-4058-afec-a9ab58361787",
   "metadata": {},
   "source": [
    "Probability they are a Liberal female, given they are a banker"
   ]
  },
  {
   "cell_type": "code",
   "execution_count": 103,
   "id": "cd076979-eb73-410a-b54a-c57415f97334",
   "metadata": {},
   "outputs": [
    {
     "data": {
      "text/plain": [
       "0.22608695652173913"
      ]
     },
     "execution_count": 103,
     "metadata": {},
     "output_type": "execute_result"
    }
   ],
   "source": [
    "condition(Liberal & female, given=banker)"
   ]
  },
  {
   "cell_type": "markdown",
   "id": "bda3e418-3eae-4ca2-9492-feb02c7e8a2f",
   "metadata": {},
   "source": [
    "About 22 percent of bankers are liberal women"
   ]
  },
  {
   "cell_type": "code",
   "execution_count": null,
   "id": "3a110ae0-a0dd-4bc9-931f-f364b7fabf99",
   "metadata": {},
   "outputs": [],
   "source": []
  }
 ],
 "metadata": {
  "kernelspec": {
   "display_name": "Python 3 (ipykernel)",
   "language": "python",
   "name": "python3"
  },
  "language_info": {
   "codemirror_mode": {
    "name": "ipython",
    "version": 3
   },
   "file_extension": ".py",
   "mimetype": "text/x-python",
   "name": "python",
   "nbconvert_exporter": "python",
   "pygments_lexer": "ipython3",
   "version": "3.9.5"
  }
 },
 "nbformat": 4,
 "nbformat_minor": 5
}
